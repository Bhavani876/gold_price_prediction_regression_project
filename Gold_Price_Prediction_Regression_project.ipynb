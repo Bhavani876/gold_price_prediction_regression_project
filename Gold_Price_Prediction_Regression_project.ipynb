{
 "cells": [
  {
   "cell_type": "markdown",
   "metadata": {
    "id": "i1h7LAlVa7Gu"
   },
   "source": [
    "Importing the Libraries"
   ]
  },
  {
   "cell_type": "code",
   "execution_count": 16,
   "metadata": {
    "id": "d2o7jdWHXE6K"
   },
   "outputs": [],
   "source": [
    "import numpy as np\n",
    "import pandas as pd\n",
    "import matplotlib.pyplot as plt\n",
    "import seaborn as sns\n",
    "from sklearn.model_selection import train_test_split\n",
    "from sklearn.ensemble import RandomForestRegressor\n",
    "from sklearn import metrics\n",
    "import warnings\n",
    "warnings.filterwarnings('ignore')"
   ]
  },
  {
   "cell_type": "markdown",
   "metadata": {
    "id": "Y1jC584Mbd4Q"
   },
   "source": [
    "Data Collection and Processing"
   ]
  },
  {
   "cell_type": "code",
   "execution_count": 17,
   "metadata": {
    "id": "BQtjCTzHbZQO"
   },
   "outputs": [],
   "source": [
    "# loading the csv data to a Pandas DataFrame\n",
    "gold_data = pd.read_csv('gld_price_data.csv')"
   ]
  },
  {
   "cell_type": "code",
   "execution_count": 18,
   "metadata": {
    "colab": {
     "base_uri": "https://localhost:8080/",
     "height": 198
    },
    "id": "S5xeeB9LbyA9",
    "outputId": "a80fe09f-64e8-449d-b8d2-01a2b8919b82"
   },
   "outputs": [
    {
     "data": {
      "text/html": [
       "<div>\n",
       "<style scoped>\n",
       "    .dataframe tbody tr th:only-of-type {\n",
       "        vertical-align: middle;\n",
       "    }\n",
       "\n",
       "    .dataframe tbody tr th {\n",
       "        vertical-align: top;\n",
       "    }\n",
       "\n",
       "    .dataframe thead th {\n",
       "        text-align: right;\n",
       "    }\n",
       "</style>\n",
       "<table border=\"1\" class=\"dataframe\">\n",
       "  <thead>\n",
       "    <tr style=\"text-align: right;\">\n",
       "      <th></th>\n",
       "      <th>Date</th>\n",
       "      <th>SPX</th>\n",
       "      <th>GLD</th>\n",
       "      <th>USO</th>\n",
       "      <th>SLV</th>\n",
       "      <th>EUR/USD</th>\n",
       "    </tr>\n",
       "  </thead>\n",
       "  <tbody>\n",
       "    <tr>\n",
       "      <th>0</th>\n",
       "      <td>1/2/2008</td>\n",
       "      <td>1447.160034</td>\n",
       "      <td>84.860001</td>\n",
       "      <td>78.470001</td>\n",
       "      <td>15.180</td>\n",
       "      <td>1.471692</td>\n",
       "    </tr>\n",
       "    <tr>\n",
       "      <th>1</th>\n",
       "      <td>1/3/2008</td>\n",
       "      <td>1447.160034</td>\n",
       "      <td>85.570000</td>\n",
       "      <td>78.370003</td>\n",
       "      <td>15.285</td>\n",
       "      <td>1.474491</td>\n",
       "    </tr>\n",
       "    <tr>\n",
       "      <th>2</th>\n",
       "      <td>1/4/2008</td>\n",
       "      <td>1411.630005</td>\n",
       "      <td>85.129997</td>\n",
       "      <td>77.309998</td>\n",
       "      <td>15.167</td>\n",
       "      <td>1.475492</td>\n",
       "    </tr>\n",
       "    <tr>\n",
       "      <th>3</th>\n",
       "      <td>1/7/2008</td>\n",
       "      <td>1416.180054</td>\n",
       "      <td>84.769997</td>\n",
       "      <td>75.500000</td>\n",
       "      <td>15.053</td>\n",
       "      <td>1.468299</td>\n",
       "    </tr>\n",
       "    <tr>\n",
       "      <th>4</th>\n",
       "      <td>1/8/2008</td>\n",
       "      <td>1390.189941</td>\n",
       "      <td>86.779999</td>\n",
       "      <td>76.059998</td>\n",
       "      <td>15.590</td>\n",
       "      <td>1.557099</td>\n",
       "    </tr>\n",
       "  </tbody>\n",
       "</table>\n",
       "</div>"
      ],
      "text/plain": [
       "       Date          SPX        GLD        USO     SLV   EUR/USD\n",
       "0  1/2/2008  1447.160034  84.860001  78.470001  15.180  1.471692\n",
       "1  1/3/2008  1447.160034  85.570000  78.370003  15.285  1.474491\n",
       "2  1/4/2008  1411.630005  85.129997  77.309998  15.167  1.475492\n",
       "3  1/7/2008  1416.180054  84.769997  75.500000  15.053  1.468299\n",
       "4  1/8/2008  1390.189941  86.779999  76.059998  15.590  1.557099"
      ]
     },
     "execution_count": 18,
     "metadata": {},
     "output_type": "execute_result"
    }
   ],
   "source": [
    "# print first 5 rows in the dataframe\n",
    "gold_data.head()"
   ]
  },
  {
   "cell_type": "code",
   "execution_count": 19,
   "metadata": {
    "colab": {
     "base_uri": "https://localhost:8080/",
     "height": 198
    },
    "id": "NrywfHOBb6HD",
    "outputId": "8167fc52-3dc2-4227-ba75-172e7e2c3b12"
   },
   "outputs": [
    {
     "data": {
      "text/html": [
       "<div>\n",
       "<style scoped>\n",
       "    .dataframe tbody tr th:only-of-type {\n",
       "        vertical-align: middle;\n",
       "    }\n",
       "\n",
       "    .dataframe tbody tr th {\n",
       "        vertical-align: top;\n",
       "    }\n",
       "\n",
       "    .dataframe thead th {\n",
       "        text-align: right;\n",
       "    }\n",
       "</style>\n",
       "<table border=\"1\" class=\"dataframe\">\n",
       "  <thead>\n",
       "    <tr style=\"text-align: right;\">\n",
       "      <th></th>\n",
       "      <th>Date</th>\n",
       "      <th>SPX</th>\n",
       "      <th>GLD</th>\n",
       "      <th>USO</th>\n",
       "      <th>SLV</th>\n",
       "      <th>EUR/USD</th>\n",
       "    </tr>\n",
       "  </thead>\n",
       "  <tbody>\n",
       "    <tr>\n",
       "      <th>2285</th>\n",
       "      <td>5/8/2018</td>\n",
       "      <td>2671.919922</td>\n",
       "      <td>124.589996</td>\n",
       "      <td>14.0600</td>\n",
       "      <td>15.5100</td>\n",
       "      <td>1.186789</td>\n",
       "    </tr>\n",
       "    <tr>\n",
       "      <th>2286</th>\n",
       "      <td>5/9/2018</td>\n",
       "      <td>2697.790039</td>\n",
       "      <td>124.330002</td>\n",
       "      <td>14.3700</td>\n",
       "      <td>15.5300</td>\n",
       "      <td>1.184722</td>\n",
       "    </tr>\n",
       "    <tr>\n",
       "      <th>2287</th>\n",
       "      <td>5/10/2018</td>\n",
       "      <td>2723.070068</td>\n",
       "      <td>125.180000</td>\n",
       "      <td>14.4100</td>\n",
       "      <td>15.7400</td>\n",
       "      <td>1.191753</td>\n",
       "    </tr>\n",
       "    <tr>\n",
       "      <th>2288</th>\n",
       "      <td>5/14/2018</td>\n",
       "      <td>2730.129883</td>\n",
       "      <td>124.489998</td>\n",
       "      <td>14.3800</td>\n",
       "      <td>15.5600</td>\n",
       "      <td>1.193118</td>\n",
       "    </tr>\n",
       "    <tr>\n",
       "      <th>2289</th>\n",
       "      <td>5/16/2018</td>\n",
       "      <td>2725.780029</td>\n",
       "      <td>122.543800</td>\n",
       "      <td>14.4058</td>\n",
       "      <td>15.4542</td>\n",
       "      <td>1.182033</td>\n",
       "    </tr>\n",
       "  </tbody>\n",
       "</table>\n",
       "</div>"
      ],
      "text/plain": [
       "           Date          SPX         GLD      USO      SLV   EUR/USD\n",
       "2285   5/8/2018  2671.919922  124.589996  14.0600  15.5100  1.186789\n",
       "2286   5/9/2018  2697.790039  124.330002  14.3700  15.5300  1.184722\n",
       "2287  5/10/2018  2723.070068  125.180000  14.4100  15.7400  1.191753\n",
       "2288  5/14/2018  2730.129883  124.489998  14.3800  15.5600  1.193118\n",
       "2289  5/16/2018  2725.780029  122.543800  14.4058  15.4542  1.182033"
      ]
     },
     "execution_count": 19,
     "metadata": {},
     "output_type": "execute_result"
    }
   ],
   "source": [
    "# print last 5 rows of the dataframe\n",
    "gold_data.tail()"
   ]
  },
  {
   "cell_type": "code",
   "execution_count": 20,
   "metadata": {
    "colab": {
     "base_uri": "https://localhost:8080/"
    },
    "id": "vgnDjvpocdUp",
    "outputId": "13fb521f-29a7-401a-fac6-c3a12ff3668b"
   },
   "outputs": [
    {
     "data": {
      "text/plain": [
       "(2290, 6)"
      ]
     },
     "execution_count": 20,
     "metadata": {},
     "output_type": "execute_result"
    }
   ],
   "source": [
    "# number of rows and columns\n",
    "gold_data.shape"
   ]
  },
  {
   "cell_type": "code",
   "execution_count": 21,
   "metadata": {
    "colab": {
     "base_uri": "https://localhost:8080/"
    },
    "id": "9SEXC4AWcnDu",
    "outputId": "6c660677-2c14-4caa-afef-085e130f3e2d"
   },
   "outputs": [
    {
     "name": "stdout",
     "output_type": "stream",
     "text": [
      "<class 'pandas.core.frame.DataFrame'>\n",
      "RangeIndex: 2290 entries, 0 to 2289\n",
      "Data columns (total 6 columns):\n",
      " #   Column   Non-Null Count  Dtype  \n",
      "---  ------   --------------  -----  \n",
      " 0   Date     2290 non-null   object \n",
      " 1   SPX      2290 non-null   float64\n",
      " 2   GLD      2290 non-null   float64\n",
      " 3   USO      2290 non-null   float64\n",
      " 4   SLV      2290 non-null   float64\n",
      " 5   EUR/USD  2290 non-null   float64\n",
      "dtypes: float64(5), object(1)\n",
      "memory usage: 107.5+ KB\n"
     ]
    }
   ],
   "source": [
    "# getting some basic informations about the data\n",
    "gold_data.info()"
   ]
  },
  {
   "cell_type": "code",
   "execution_count": 22,
   "metadata": {
    "colab": {
     "base_uri": "https://localhost:8080/"
    },
    "id": "tjmFVXi2cv4Q",
    "outputId": "2fa51b37-0af3-4ce0-963a-f48fba8e0a84"
   },
   "outputs": [
    {
     "data": {
      "text/plain": [
       "Date       0\n",
       "SPX        0\n",
       "GLD        0\n",
       "USO        0\n",
       "SLV        0\n",
       "EUR/USD    0\n",
       "dtype: int64"
      ]
     },
     "execution_count": 22,
     "metadata": {},
     "output_type": "execute_result"
    }
   ],
   "source": [
    "# checking the number of missing values\n",
    "gold_data.isnull().sum()"
   ]
  },
  {
   "cell_type": "code",
   "execution_count": 23,
   "metadata": {
    "colab": {
     "base_uri": "https://localhost:8080/",
     "height": 288
    },
    "id": "9IcOnRfhc7zv",
    "outputId": "fc921d3f-e836-4042-ed2c-e77ad4216e47"
   },
   "outputs": [
    {
     "data": {
      "text/html": [
       "<div>\n",
       "<style scoped>\n",
       "    .dataframe tbody tr th:only-of-type {\n",
       "        vertical-align: middle;\n",
       "    }\n",
       "\n",
       "    .dataframe tbody tr th {\n",
       "        vertical-align: top;\n",
       "    }\n",
       "\n",
       "    .dataframe thead th {\n",
       "        text-align: right;\n",
       "    }\n",
       "</style>\n",
       "<table border=\"1\" class=\"dataframe\">\n",
       "  <thead>\n",
       "    <tr style=\"text-align: right;\">\n",
       "      <th></th>\n",
       "      <th>SPX</th>\n",
       "      <th>GLD</th>\n",
       "      <th>USO</th>\n",
       "      <th>SLV</th>\n",
       "      <th>EUR/USD</th>\n",
       "    </tr>\n",
       "  </thead>\n",
       "  <tbody>\n",
       "    <tr>\n",
       "      <th>count</th>\n",
       "      <td>2290.000000</td>\n",
       "      <td>2290.000000</td>\n",
       "      <td>2290.000000</td>\n",
       "      <td>2290.000000</td>\n",
       "      <td>2290.000000</td>\n",
       "    </tr>\n",
       "    <tr>\n",
       "      <th>mean</th>\n",
       "      <td>1654.315776</td>\n",
       "      <td>122.732875</td>\n",
       "      <td>31.842221</td>\n",
       "      <td>20.084997</td>\n",
       "      <td>1.283653</td>\n",
       "    </tr>\n",
       "    <tr>\n",
       "      <th>std</th>\n",
       "      <td>519.111540</td>\n",
       "      <td>23.283346</td>\n",
       "      <td>19.523517</td>\n",
       "      <td>7.092566</td>\n",
       "      <td>0.131547</td>\n",
       "    </tr>\n",
       "    <tr>\n",
       "      <th>min</th>\n",
       "      <td>676.530029</td>\n",
       "      <td>70.000000</td>\n",
       "      <td>7.960000</td>\n",
       "      <td>8.850000</td>\n",
       "      <td>1.039047</td>\n",
       "    </tr>\n",
       "    <tr>\n",
       "      <th>25%</th>\n",
       "      <td>1239.874969</td>\n",
       "      <td>109.725000</td>\n",
       "      <td>14.380000</td>\n",
       "      <td>15.570000</td>\n",
       "      <td>1.171313</td>\n",
       "    </tr>\n",
       "    <tr>\n",
       "      <th>50%</th>\n",
       "      <td>1551.434998</td>\n",
       "      <td>120.580002</td>\n",
       "      <td>33.869999</td>\n",
       "      <td>17.268500</td>\n",
       "      <td>1.303297</td>\n",
       "    </tr>\n",
       "    <tr>\n",
       "      <th>75%</th>\n",
       "      <td>2073.010070</td>\n",
       "      <td>132.840004</td>\n",
       "      <td>37.827501</td>\n",
       "      <td>22.882500</td>\n",
       "      <td>1.369971</td>\n",
       "    </tr>\n",
       "    <tr>\n",
       "      <th>max</th>\n",
       "      <td>2872.870117</td>\n",
       "      <td>184.589996</td>\n",
       "      <td>117.480003</td>\n",
       "      <td>47.259998</td>\n",
       "      <td>1.598798</td>\n",
       "    </tr>\n",
       "  </tbody>\n",
       "</table>\n",
       "</div>"
      ],
      "text/plain": [
       "               SPX          GLD          USO          SLV      EUR/USD\n",
       "count  2290.000000  2290.000000  2290.000000  2290.000000  2290.000000\n",
       "mean   1654.315776   122.732875    31.842221    20.084997     1.283653\n",
       "std     519.111540    23.283346    19.523517     7.092566     0.131547\n",
       "min     676.530029    70.000000     7.960000     8.850000     1.039047\n",
       "25%    1239.874969   109.725000    14.380000    15.570000     1.171313\n",
       "50%    1551.434998   120.580002    33.869999    17.268500     1.303297\n",
       "75%    2073.010070   132.840004    37.827501    22.882500     1.369971\n",
       "max    2872.870117   184.589996   117.480003    47.259998     1.598798"
      ]
     },
     "execution_count": 23,
     "metadata": {},
     "output_type": "execute_result"
    }
   ],
   "source": [
    "# getting the statistical measures of the data\n",
    "gold_data.describe()"
   ]
  },
  {
   "cell_type": "markdown",
   "metadata": {
    "id": "f9SUQ8hodW4b"
   },
   "source": [
    "Correlation:\n",
    "1. Positive Correlation\n",
    "2. Negative Correlation"
   ]
  },
  {
   "cell_type": "code",
   "execution_count": 24,
   "metadata": {
    "id": "C3xgji81dJUW"
   },
   "outputs": [],
   "source": [
    "correlation = gold_data.corr()"
   ]
  },
  {
   "cell_type": "code",
   "execution_count": 25,
   "metadata": {
    "colab": {
     "base_uri": "https://localhost:8080/",
     "height": 488
    },
    "id": "oOqb9j0Ad-Zx",
    "outputId": "629a76ce-d91f-459d-c07e-3ab88af34fcf"
   },
   "outputs": [
    {
     "data": {
      "text/plain": [
       "<AxesSubplot:>"
      ]
     },
     "execution_count": 25,
     "metadata": {},
     "output_type": "execute_result"
    },
    {
     "data": {
      "image/png": "[encoded data removed]",
      "text/plain": [
       "<Figure size 800x800 with 2 Axes>"
      ]
     },
     "metadata": {},
     "output_type": "display_data"
    }
   ],
   "source": [
    "# constructing a heatmap to understand the correlatiom\n",
    "plt.figure(figsize = (8,8))\n",
    "sns.heatmap(correlation, cbar=True, square=True, fmt='.1f',annot=True, annot_kws={'size':8}, cmap='Blues')"
   ]
  },
  {
   "cell_type": "code",
   "execution_count": 26,
   "metadata": {
    "colab": {
     "base_uri": "https://localhost:8080/"
    },
    "id": "qtQ_icjRemI4",
    "outputId": "cec00681-c356-42e4-e4c6-557e6c2b8ccd"
   },
   "outputs": [
    {
     "name": "stdout",
     "output_type": "stream",
     "text": [
      "SPX        0.049345\n",
      "GLD        1.000000\n",
      "USO       -0.186360\n",
      "SLV        0.866632\n",
      "EUR/USD   -0.024375\n",
      "Name: GLD, dtype: float64\n"
     ]
    }
   ],
   "source": [
    "# correlation values of GLD\n",
    "print(correlation['GLD'])"
   ]
  },
  {
   "cell_type": "code",
   "execution_count": 29,
   "metadata": {
    "colab": {
     "base_uri": "https://localhost:8080/",
     "height": 357
    },
    "id": "TMr-xVEwfIKg",
    "outputId": "20e55a70-f442-4821-d6a2-3c3bc9e01226"
   },
   "outputs": [
    {
     "data": {
      "image/png": "[encoded data removed]",
      "text/plain": [
       "<Figure size 640x480 with 1 Axes>"
      ]
     },
     "metadata": {},
     "output_type": "display_data"
    }
   ],
   "source": [
    "# checking the distribution of the GLD Price\n",
    "sns.distplot(gold_data['GLD'],color='green');"
   ]
  },
  {
   "cell_type": "markdown",
   "metadata": {
    "id": "4bdwLbPEfqWI"
   },
   "source": [
    "Splitting the Features and Target"
   ]
  },
  {
   "cell_type": "code",
   "execution_count": 30,
   "metadata": {
    "id": "SJNxCR0vfWxe"
   },
   "outputs": [],
   "source": [
    "X = gold_data.drop(['Date','GLD'],axis=1)\n",
    "Y = gold_data['GLD']"
   ]
  },
  {
   "cell_type": "code",
   "execution_count": 31,
   "metadata": {
    "colab": {
     "base_uri": "https://localhost:8080/"
    },
    "id": "qW9UvLSNf8zH",
    "outputId": "c61137e6-7ab4-491f-c626-d4bda00c48ce"
   },
   "outputs": [
    {
     "name": "stdout",
     "output_type": "stream",
     "text": [
      "              SPX        USO      SLV   EUR/USD\n",
      "0     1447.160034  78.470001  15.1800  1.471692\n",
      "1     1447.160034  78.370003  15.2850  1.474491\n",
      "2     1411.630005  77.309998  15.1670  1.475492\n",
      "3     1416.180054  75.500000  15.0530  1.468299\n",
      "4     1390.189941  76.059998  15.5900  1.557099\n",
      "...           ...        ...      ...       ...\n",
      "2285  2671.919922  14.060000  15.5100  1.186789\n",
      "2286  2697.790039  14.370000  15.5300  1.184722\n",
      "2287  2723.070068  14.410000  15.7400  1.191753\n",
      "2288  2730.129883  14.380000  15.5600  1.193118\n",
      "2289  2725.780029  14.405800  15.4542  1.182033\n",
      "\n",
      "[2290 rows x 4 columns]\n"
     ]
    }
   ],
   "source": [
    "print(X)"
   ]
  },
  {
   "cell_type": "code",
   "execution_count": 32,
   "metadata": {
    "colab": {
     "base_uri": "https://localhost:8080/"
    },
    "id": "lKUe3C-qf9y8",
    "outputId": "cfcf051d-0ec2-4cd5-c504-ceb22b63b5c9"
   },
   "outputs": [
    {
     "name": "stdout",
     "output_type": "stream",
     "text": [
      "0        84.860001\n",
      "1        85.570000\n",
      "2        85.129997\n",
      "3        84.769997\n",
      "4        86.779999\n",
      "           ...    \n",
      "2285    124.589996\n",
      "2286    124.330002\n",
      "2287    125.180000\n",
      "2288    124.489998\n",
      "2289    122.543800\n",
      "Name: GLD, Length: 2290, dtype: float64\n"
     ]
    }
   ],
   "source": [
    "print(Y)"
   ]
  },
  {
   "cell_type": "markdown",
   "metadata": {
    "id": "nv8UohBVgE1Z"
   },
   "source": [
    "Splitting into Training data and Test Data"
   ]
  },
  {
   "cell_type": "code",
   "execution_count": 33,
   "metadata": {
    "id": "KkrUByFugBUn"
   },
   "outputs": [],
   "source": [
    "X_train, X_test, Y_train, Y_test = train_test_split(X, Y, test_size = 0.2, random_state=2)"
   ]
  },
  {
   "cell_type": "markdown",
   "metadata": {
    "id": "1vrCHktWgqfi"
   },
   "source": [
    "Model Training:\n",
    "Random Forest Regressor"
   ]
  },
  {
   "cell_type": "code",
   "execution_count": 34,
   "metadata": {
    "id": "N17qRKKGgoaZ"
   },
   "outputs": [],
   "source": [
    "regressor = RandomForestRegressor(n_estimators=100)"
   ]
  },
  {
   "cell_type": "code",
   "execution_count": 35,
   "metadata": {
    "colab": {
     "base_uri": "https://localhost:8080/"
    },
    "id": "DP2he4-PhMso",
    "outputId": "62c30f51-7e7c-425e-b7f2-47e38bf38513"
   },
   "outputs": [
    {
     "data": {
      "text/plain": [
       "RandomForestRegressor()"
      ]
     },
     "execution_count": 35,
     "metadata": {},
     "output_type": "execute_result"
    }
   ],
   "source": [
    "# training the model\n",
    "regressor.fit(X_train,Y_train)"
   ]
  },
  {
   "cell_type": "markdown",
   "metadata": {
    "id": "SHNFVsr4hbG2"
   },
   "source": [
    "Model Evaluation"
   ]
  },
  {
   "cell_type": "code",
   "execution_count": 36,
   "metadata": {
    "id": "uOLpKKD_hXSl"
   },
   "outputs": [],
   "source": [
    "# prediction on Test Data\n",
    "test_data_prediction = regressor.predict(X_test)"
   ]
  },
  {
   "cell_type": "code",
   "execution_count": 37,
   "metadata": {
    "colab": {
     "base_uri": "https://localhost:8080/"
    },
    "id": "WSIqrLNdhnOr",
    "outputId": "72344c44-af1a-491f-bfc9-8046b55efee2"
   },
   "outputs": [
    {
     "name": "stdout",
     "output_type": "stream",
     "text": [
      "[168.53209949  81.98299985 115.9898004  127.51020091 120.69920132\n",
      " 154.63719818 150.20229941 126.1663004  117.55929866 125.90780067\n",
      " 116.88620088 172.21770097 141.14439844 167.75449874 114.99459986\n",
      " 117.63930035 139.40790282 170.15360096 159.63210303 158.04599892\n",
      " 155.02519996 124.99640006 175.97069985 157.2807036  125.13660059\n",
      "  93.86649944  77.37649996 120.45719993 119.07669921 167.41169966\n",
      "  88.0945005  125.00510003  91.19640065 117.59500006 121.18049908\n",
      " 136.09470127 115.48650136 115.25970071 146.33369994 107.11820107\n",
      " 104.62540253  87.44359828 126.48950054 117.88830007 152.06239947\n",
      " 119.7931     108.36339975 108.15269823  93.22030083 127.18679733\n",
      "  74.94810033 113.69879962 120.93209981 111.35109924 118.77159899\n",
      " 120.95209942 159.88540001 167.98970169 146.93099635  85.8657988\n",
      "  94.58570028  86.85609904  90.43110025 118.97890062 126.46630058\n",
      " 127.67980037 169.96639992 122.25599908 117.64899884  98.63110055\n",
      " 168.20360082 143.13129783 132.25860225 121.03880257 121.1467992\n",
      " 119.71670074 114.50540202 118.3427007  107.06060099 127.93520062\n",
      " 113.71189983 107.01620037 116.88820069 119.68189839  88.88790047\n",
      "  88.3023986  146.9601025  127.0796002  113.35930043 110.12089835\n",
      " 108.22259902  77.39869898 169.11650147 114.02829908 121.64039909\n",
      " 127.87570125 154.94689851  91.71639997 135.50040086 159.55080335\n",
      " 125.00680078 125.42200063 130.81840243 114.94060169 119.87309996\n",
      "  92.1700002  110.17249899 168.25209908 157.20619949 114.17459946\n",
      " 106.5967011   79.5857998  113.17280057 125.80160083 107.27939955\n",
      " 119.28380099 155.56660372 159.62629938 120.34970003 134.74030285\n",
      " 101.61789972 117.61499811 119.27070025 112.958601   102.71959902\n",
      " 159.97979737  98.83280034 147.4716993  125.53080087 169.99109911\n",
      " 125.91729882 127.38089731 127.46660191 113.71249953 112.99620076\n",
      " 123.57979894 102.27789903  89.06609978 124.62609956 101.44099937\n",
      " 107.05579894 113.91210054 117.39950036  98.94819948 121.73810044\n",
      " 163.29439888  87.38559878 106.74079994 117.1653006  127.73320143\n",
      " 123.92230046  80.80739913 120.37350076 157.8556978   87.8532996\n",
      " 110.48529906 118.9655992  172.4579992  102.9118992  106.10600039\n",
      " 122.79130011 157.95739742  87.49899843  92.99440045 112.97540015\n",
      " 176.60410008 114.59109967 119.32920025  94.62150061 125.88010013\n",
      " 165.7082011  114.871901   116.61940153  88.29009842 148.85740109\n",
      " 120.41609941  89.53939974 111.98639995 116.80390022 118.83100118\n",
      "  88.29619939  94.0249999  117.0936998  118.47100161 120.40800124\n",
      " 127.07149734 121.81500033 150.80950039 165.16960026 118.49419952\n",
      " 120.46300149 150.43980023 118.19449912 172.80319907 105.37639941\n",
      " 105.08390119 149.62660107 113.94180062 124.75530128 147.56989948\n",
      " 119.70330109 115.29010068 112.74629996 113.37320207 140.68890133\n",
      " 118.0559976  102.99910039 115.89670134 103.57260163  98.41560052\n",
      " 117.20510067  90.75489994  91.81100057 153.43289865 102.64909998\n",
      " 154.73840115 114.33980168 138.19380096  89.99789806 115.41169966\n",
      " 114.94229965 122.87940087 121.62120065 165.29570113  92.96459966\n",
      " 135.44700122 121.33049915 120.45670032 104.73110014 141.09880329\n",
      " 121.92999911 116.68580043 113.25720099 127.204797   122.79319942\n",
      " 125.88949974 121.19480054  86.89969934 132.55850196 143.61950195\n",
      "  92.67099945 160.17659987 159.43770286 126.26509939 164.83069933\n",
      " 109.06979999 110.84240037 103.48339807  94.26860031 127.33770239\n",
      " 106.86730053 162.51220013 121.96199997 131.83919995 130.79720246\n",
      " 160.82809979  90.0272986  175.37110205 127.53970074 127.10439774\n",
      "  86.31329932 124.66579957 150.28129755  89.71560001 106.94519994\n",
      " 109.13900004  83.34609877 136.22669978 154.69360215 137.77260348\n",
      "  73.83460031 152.18910112 126.23710033 126.74740005 127.59829843\n",
      " 108.84569953 156.35339989 114.62020139 117.02140116 125.21229934\n",
      " 154.24850108 121.29369974 156.53129784  92.89140076 125.58440175\n",
      " 125.5523003   87.85890061  91.73349931 126.16329953 128.19040328\n",
      " 113.09300007 117.70549732 120.74160009 127.23019759 119.7033013\n",
      " 136.05570072  93.85019907 119.84010017 113.03100119  94.22719947\n",
      " 108.85519988  87.0456991  109.18039964  89.51550003  92.63090025\n",
      " 131.64760314 162.26610082  89.09530023 119.74530062 133.47880146\n",
      " 123.94820028 128.20290175 102.04919855  88.9635987  131.28370046\n",
      " 120.13850061 108.86539958 169.07000008 115.2042005   86.68319924\n",
      " 118.9272008   91.20739962 161.77649967 116.41580038 121.46019995\n",
      " 160.34299837 119.94689945 112.7145995  108.50509864 126.69229981\n",
      "  75.77080056 103.04199978 127.29030227 121.58649892  92.68980027\n",
      " 131.79310052 117.95630117 115.6802998  154.30130274 159.47850084\n",
      " 109.96209975 153.3895977  119.30040091 160.77450107 118.56169993\n",
      " 158.68319997 115.15119921 116.36350028 149.0014995  114.6849007\n",
      " 125.95829901 164.26359912 117.79820012 125.13959947 153.18060366\n",
      " 153.43960217 132.06590026 114.74600047 121.30010225 124.72550078\n",
      "  89.78920046 123.22929982 154.64180159 111.75450044 106.70500016\n",
      " 162.26340169 118.27659966 165.63939999 134.01330097 114.64589959\n",
      " 153.06799923 168.74399962 115.41970004 114.08640118 158.22829858\n",
      "  85.0554989  127.17990037 127.96940045 128.74759916 124.30210082\n",
      " 123.94410095  90.68650049 153.10380097  97.07419995 137.47889956\n",
      "  89.07029913 107.07490031 115.03960066 112.75530113 124.20389944\n",
      "  91.40649869 125.38960111 162.44289838 120.08589868 165.02500166\n",
      " 127.09329736 112.42260022 127.61339888  95.22449919  90.8386999\n",
      " 102.849999   120.7661001   83.46719967 126.39549992 160.61420437\n",
      " 117.24310099 118.38010017 119.64499984 122.45299945 120.20760156\n",
      " 121.29829984 117.84610042 107.14609981 148.17939978 126.51569832\n",
      " 115.75970083  74.07810016 127.88010107 154.92670065 122.10179985\n",
      " 125.57720079  88.7204999  104.07389866 124.8227006  120.23180029\n",
      "  73.60730094 151.71159988 120.80530034 104.80290018  86.28989803\n",
      " 115.1577991  172.19199848 119.80020039 160.22149886 113.14469961\n",
      " 121.38480004 118.54090118  95.94639987 118.79410051 125.70200049\n",
      " 118.50249973  96.05940054 153.95250219 122.07629997 146.9921003\n",
      " 159.50850259 113.64050044 122.52519934 149.92399786 127.33910015\n",
      " 165.55020096 135.62610051 119.94399957 166.58929862 108.37219919\n",
      " 121.8425986  138.26330119 105.35259895]\n"
     ]
    }
   ],
   "source": [
    "print(test_data_prediction)"
   ]
  },
  {
   "cell_type": "code",
   "execution_count": 38,
   "metadata": {
    "colab": {
     "base_uri": "https://localhost:8080/"
    },
    "id": "fu7A1hhMhqa9",
    "outputId": "3609de12-2ab2-46fd-c137-7e3777ddd8be"
   },
   "outputs": [
    {
     "name": "stdout",
     "output_type": "stream",
     "text": [
      "R squared error :  0.989270696359645\n"
     ]
    }
   ],
   "source": [
    "# R squared error\n",
    "error_score = metrics.r2_score(Y_test, test_data_prediction)\n",
    "print(\"R squared error : \", error_score)"
   ]
  },
  {
   "cell_type": "code",
   "execution_count": 43,
   "metadata": {},
   "outputs": [
    {
     "name": "stdout",
     "output_type": "stream",
     "text": [
      "MSE= 5.659101471644236\n"
     ]
    }
   ],
   "source": [
    "from sklearn.metrics import mean_squared_error\n",
    "MSE=mean_squared_error(Y_test,test_data_prediction)\n",
    "print('MSE=',MSE)"
   ]
  },
  {
   "cell_type": "code",
   "execution_count": 44,
   "metadata": {},
   "outputs": [
    {
     "name": "stdout",
     "output_type": "stream",
     "text": [
      "MAE= 1.3146351410917043\n"
     ]
    }
   ],
   "source": [
    "from sklearn.metrics import mean_absolute_error\n",
    "MAE=mean_absolute_error(Y_test,test_data_prediction)\n",
    "print('MAE=',MAE)"
   ]
  },
  {
   "cell_type": "code",
   "execution_count": 45,
   "metadata": {},
   "outputs": [
    {
     "name": "stdout",
     "output_type": "stream",
     "text": [
      "RMSE= 2.378886603359697\n"
     ]
    }
   ],
   "source": [
    "from sklearn.metrics import mean_squared_error\n",
    "RMSE=mean_squared_error(Y_test,test_data_prediction,squared=False)\n",
    "print('RMSE=',RMSE)"
   ]
  },
  {
   "cell_type": "markdown",
   "metadata": {
    "id": "f1fiqOMkiZNL"
   },
   "source": [
    "Compare the Actual Values and Predicted Values in a Plot"
   ]
  },
  {
   "cell_type": "code",
   "execution_count": 46,
   "metadata": {
    "collapsed": true,
    "id": "QoC4g_tBiE4A"
   },
   "outputs": [
    {
     "data": {
      "text/plain": [
       "[168.020004,\n",
       " 81.230003,\n",
       " 112.32,\n",
       " 127.589996,\n",
       " 119.620003,\n",
       " 154.210007,\n",
       " 148.910004,\n",
       " 126.190002,\n",
       " 117.470001,\n",
       " 125.739998,\n",
       " 115.379997,\n",
       " 167.119995,\n",
       " 141.630005,\n",
       " 169.559998,\n",
       " 115.599998,\n",
       " 119.669998,\n",
       " 132.949997,\n",
       " 170.399994,\n",
       " 159.369995,\n",
       " 173.529999,\n",
       " 154.720001,\n",
       " 128.119995,\n",
       " 177.720001,\n",
       " 157.190002,\n",
       " 125.309998,\n",
       " 93.400002,\n",
       " 76.790001,\n",
       " 119.690002,\n",
       " 118.989998,\n",
       " 167.389999,\n",
       " 87.5,\n",
       " 124.980003,\n",
       " 91.230003,\n",
       " 115.489998,\n",
       " 120.949997,\n",
       " 133.809998,\n",
       " 116.690002,\n",
       " 113.809998,\n",
       " 133.580002,\n",
       " 105.970001,\n",
       " 105.120003,\n",
       " 87.959999,\n",
       " 126.82,\n",
       " 116.860001,\n",
       " 159.259995,\n",
       " 119.459999,\n",
       " 109.160004,\n",
       " 108.620003,\n",
       " 93.269997,\n",
       " 127.160004,\n",
       " 72.260002,\n",
       " 113.470001,\n",
       " 119.68,\n",
       " 109.139999,\n",
       " 119.309998,\n",
       " 120.050003,\n",
       " 159.889999,\n",
       " 161.490005,\n",
       " 146.740005,\n",
       " 85.809998,\n",
       " 93.709999,\n",
       " 85.550003,\n",
       " 91.029999,\n",
       " 118.489998,\n",
       " 126.449997,\n",
       " 126.980003,\n",
       " 171.699997,\n",
       " 122.400002,\n",
       " 116.410004,\n",
       " 97.959999,\n",
       " 169.630005,\n",
       " 142.639999,\n",
       " 131.809998,\n",
       " 121.360001,\n",
       " 124.0,\n",
       " 119.699997,\n",
       " 113.889999,\n",
       " 118.919998,\n",
       " 105.639999,\n",
       " 127.669998,\n",
       " 114.32,\n",
       " 107.309998,\n",
       " 114.82,\n",
       " 119.230003,\n",
       " 86.860001,\n",
       " 87.010002,\n",
       " 147.729996,\n",
       " 128.199997,\n",
       " 113.260002,\n",
       " 110.82,\n",
       " 107.360001,\n",
       " 74.220001,\n",
       " 172.940002,\n",
       " 114.099998,\n",
       " 121.650002,\n",
       " 129.110001,\n",
       " 156.770004,\n",
       " 91.660004,\n",
       " 133.479996,\n",
       " 161.029999,\n",
       " 128.470001,\n",
       " 125.75,\n",
       " 132.289993,\n",
       " 114.019997,\n",
       " 118.230003,\n",
       " 93.709999,\n",
       " 111.150002,\n",
       " 164.289993,\n",
       " 157.770004,\n",
       " 115.510002,\n",
       " 107.129997,\n",
       " 83.309998,\n",
       " 115.150002,\n",
       " 125.540001,\n",
       " 106.080002,\n",
       " 120.580002,\n",
       " 157.139999,\n",
       " 161.059998,\n",
       " 120.309998,\n",
       " 133.070007,\n",
       " 103.949997,\n",
       " 116.360001,\n",
       " 119.309998,\n",
       " 112.370003,\n",
       " 102.839996,\n",
       " 161.199997,\n",
       " 97.050003,\n",
       " 147.830002,\n",
       " 125.32,\n",
       " 171.139999,\n",
       " 123.540001,\n",
       " 127.07,\n",
       " 127.959999,\n",
       " 114.830002,\n",
       " 111.540001,\n",
       " 122.849998,\n",
       " 100.5,\n",
       " 90.040001,\n",
       " 123.989998,\n",
       " 98.900002,\n",
       " 106.169998,\n",
       " 110.82,\n",
       " 120.389999,\n",
       " 98.849998,\n",
       " 122.449997,\n",
       " 162.300003,\n",
       " 86.650002,\n",
       " 106.150002,\n",
       " 116.43,\n",
       " 127.959999,\n",
       " 122.830002,\n",
       " 80.760002,\n",
       " 119.529999,\n",
       " 159.729996,\n",
       " 88.470001,\n",
       " 110.160004,\n",
       " 115.940002,\n",
       " 170.75,\n",
       " 102.339996,\n",
       " 105.019997,\n",
       " 122.730003,\n",
       " 160.330002,\n",
       " 86.949997,\n",
       " 93.190002,\n",
       " 111.43,\n",
       " 172.360001,\n",
       " 114.120003,\n",
       " 120.129997,\n",
       " 93.699997,\n",
       " 126.089996,\n",
       " 167.619995,\n",
       " 116.330002,\n",
       " 117.120003,\n",
       " 87.25,\n",
       " 149.199997,\n",
       " 118.690002,\n",
       " 89.419998,\n",
       " 113.650002,\n",
       " 115.519997,\n",
       " 118.669998,\n",
       " 86.989998,\n",
       " 93.830002,\n",
       " 116.550003,\n",
       " 118.300003,\n",
       " 121.800003,\n",
       " 127.660004,\n",
       " 122.699997,\n",
       " 137.710007,\n",
       " 163.630005,\n",
       " 118.43,\n",
       " 120.870003,\n",
       " 152.619995,\n",
       " 117.959999,\n",
       " 160.639999,\n",
       " 99.910004,\n",
       " 104.269997,\n",
       " 149.820007,\n",
       " 110.449997,\n",
       " 125.440002,\n",
       " 145.649994,\n",
       " 120.220001,\n",
       " 115.68,\n",
       " 113.029999,\n",
       " 112.150002,\n",
       " 134.050003,\n",
       " 118.059998,\n",
       " 102.610001,\n",
       " 116.339996,\n",
       " 104.68,\n",
       " 98.830002,\n",
       " 116.089996,\n",
       " 91.089996,\n",
       " 92.080002,\n",
       " 154.669998,\n",
       " 102.43,\n",
       " 154.770004,\n",
       " 113.68,\n",
       " 138.089996,\n",
       " 91.330002,\n",
       " 116.330002,\n",
       " 115.669998,\n",
       " 122.5438,\n",
       " 122.290001,\n",
       " 166.020004,\n",
       " 92.739998,\n",
       " 137.240005,\n",
       " 121.309998,\n",
       " 119.550003,\n",
       " 104.669998,\n",
       " 135.050003,\n",
       " 122.919998,\n",
       " 115.620003,\n",
       " 113.150002,\n",
       " 124.269997,\n",
       " 123.349998,\n",
       " 125.779999,\n",
       " 121.559998,\n",
       " 85.82,\n",
       " 132.449997,\n",
       " 154.869995,\n",
       " 92.059998,\n",
       " 148.970001,\n",
       " 161.880005,\n",
       " 127.199997,\n",
       " 167.350006,\n",
       " 108.559998,\n",
       " 110.440002,\n",
       " 104.209999,\n",
       " 95.769997,\n",
       " 129.470001,\n",
       " 108.349998,\n",
       " 149.119995,\n",
       " 121.730003,\n",
       " 131.699997,\n",
       " 131.960007,\n",
       " 160.990005,\n",
       " 90.57,\n",
       " 173.889999,\n",
       " 128.089996,\n",
       " 127.550003,\n",
       " 86.779999,\n",
       " 123.940002,\n",
       " 150.419998,\n",
       " 89.269997,\n",
       " 108.050003,\n",
       " 111.019997,\n",
       " 89.18,\n",
       " 138.369995,\n",
       " 156.220001,\n",
       " 134.660004,\n",
       " 73.580002,\n",
       " 152.970001,\n",
       " 126.559998,\n",
       " 126.139999,\n",
       " 127.75,\n",
       " 108.360001,\n",
       " 157.460007,\n",
       " 114.0,\n",
       " 116.989998,\n",
       " 126.860001,\n",
       " 155.240005,\n",
       " 120.650002,\n",
       " 156.990005,\n",
       " 92.790001,\n",
       " 125.389999,\n",
       " 124.889999,\n",
       " 88.25,\n",
       " 91.93,\n",
       " 126.339996,\n",
       " 128.839996,\n",
       " 112.889999,\n",
       " 117.360001,\n",
       " 119.739998,\n",
       " 128.179993,\n",
       " 121.480003,\n",
       " 134.199997,\n",
       " 93.900002,\n",
       " 118.900002,\n",
       " 112.300003,\n",
       " 94.779999,\n",
       " 108.699997,\n",
       " 86.709999,\n",
       " 110.260002,\n",
       " 88.639999,\n",
       " 93.239998,\n",
       " 131.320007,\n",
       " 163.089996,\n",
       " 90.120003,\n",
       " 119.82,\n",
       " 133.940002,\n",
       " 125.839996,\n",
       " 127.739998,\n",
       " 101.459999,\n",
       " 89.18,\n",
       " 132.199997,\n",
       " 122.150002,\n",
       " 110.529999,\n",
       " 172.070007,\n",
       " 115.279999,\n",
       " 85.389999,\n",
       " 121.959999,\n",
       " 90.760002,\n",
       " 161.300003,\n",
       " 116.519997,\n",
       " 120.400002,\n",
       " 160.490005,\n",
       " 121.489998,\n",
       " 114.949997,\n",
       " 109.980003,\n",
       " 126.529999,\n",
       " 73.449997,\n",
       " 102.040001,\n",
       " 130.229996,\n",
       " 121.099998,\n",
       " 91.169998,\n",
       " 132.089996,\n",
       " 117.970001,\n",
       " 116.110001,\n",
       " 156.25,\n",
       " 161.600006,\n",
       " 110.209999,\n",
       " 135.410004,\n",
       " 119.040001,\n",
       " 162.020004,\n",
       " 118.080002,\n",
       " 159.699997,\n",
       " 114.43,\n",
       " 117.980003,\n",
       " 147.770004,\n",
       " 115.330002,\n",
       " 126.230003,\n",
       " 165.589996,\n",
       " 116.790001,\n",
       " 125.029999,\n",
       " 153.229996,\n",
       " 153.470001,\n",
       " 132.809998,\n",
       " 115.029999,\n",
       " 120.959999,\n",
       " 126.470001,\n",
       " 93.089996,\n",
       " 122.519997,\n",
       " 151.410004,\n",
       " 111.669998,\n",
       " 106.949997,\n",
       " 162.619995,\n",
       " 120.050003,\n",
       " 165.160004,\n",
       " 131.570007,\n",
       " 116.169998,\n",
       " 152.990005,\n",
       " 169.429993,\n",
       " 110.57,\n",
       " 115.379997,\n",
       " 161.199997,\n",
       " 85.43,\n",
       " 128.110001,\n",
       " 127.269997,\n",
       " 129.210007,\n",
       " 125.610001,\n",
       " 124.230003,\n",
       " 91.099998,\n",
       " 151.619995,\n",
       " 96.089996,\n",
       " 136.179993,\n",
       " 90.25,\n",
       " 106.93,\n",
       " 115.470001,\n",
       " 111.540001,\n",
       " 126.309998,\n",
       " 90.919998,\n",
       " 125.410004,\n",
       " 163.350006,\n",
       " 117.959999,\n",
       " 166.070007,\n",
       " 127.790001,\n",
       " 111.5,\n",
       " 127.580002,\n",
       " 96.910004,\n",
       " 89.980003,\n",
       " 99.339996,\n",
       " 120.419998,\n",
       " 82.199997,\n",
       " 125.370003,\n",
       " 159.429993,\n",
       " 117.099998,\n",
       " 120.730003,\n",
       " 118.650002,\n",
       " 120.620003,\n",
       " 119.480003,\n",
       " 121.18,\n",
       " 118.809998,\n",
       " 107.559998,\n",
       " 146.380005,\n",
       " 122.830002,\n",
       " 115.43,\n",
       " 71.709999,\n",
       " 128.070007,\n",
       " 157.199997,\n",
       " 120.860001,\n",
       " 126.239998,\n",
       " 89.010002,\n",
       " 102.550003,\n",
       " 124.32,\n",
       " 119.910004,\n",
       " 72.150002,\n",
       " 150.75,\n",
       " 120.029999,\n",
       " 104.099998,\n",
       " 86.230003,\n",
       " 113.580002,\n",
       " 172.100006,\n",
       " 121.480003,\n",
       " 161.539993,\n",
       " 112.769997,\n",
       " 122.419998,\n",
       " 120.940002,\n",
       " 95.989998,\n",
       " 120.760002,\n",
       " 125.32,\n",
       " 118.080002,\n",
       " 97.730003,\n",
       " 154.649994,\n",
       " 120.589996,\n",
       " 143.470001,\n",
       " 160.589996,\n",
       " 111.629997,\n",
       " 122.120003,\n",
       " 146.240005,\n",
       " 127.959999,\n",
       " 164.119995,\n",
       " 133.429993,\n",
       " 122.379997,\n",
       " 166.380005,\n",
       " 106.379997,\n",
       " 122.239998,\n",
       " 133.830002,\n",
       " 102.360001]"
      ]
     },
     "execution_count": 46,
     "metadata": {},
     "output_type": "execute_result"
    }
   ],
   "source": [
    "Y_test = list(Y_test)\n",
    "Y_test"
   ]
  },
  {
   "cell_type": "code",
   "execution_count": 40,
   "metadata": {
    "colab": {
     "base_uri": "https://localhost:8080/",
     "height": 295
    },
    "id": "sMSVMVtFijxo",
    "outputId": "34404933-1a9f-4e34-93f2-790c9665cad7"
   },
   "outputs": [
    {
     "data": {
      "image/png": "[encoded data removed]",
      "text/plain": [
       "<Figure size 640x480 with 1 Axes>"
      ]
     },
     "metadata": {},
     "output_type": "display_data"
    }
   ],
   "source": [
    "plt.plot(Y_test, color='blue', label = 'Actual Value')\n",
    "plt.plot(test_data_prediction, color='green', label='Predicted Value')\n",
    "plt.title('Actual Price vs Predicted Price')\n",
    "plt.xlabel('Number of values')\n",
    "plt.ylabel('GLD Price')\n",
    "plt.legend()\n",
    "plt.show()"
   ]
  },
  {
   "cell_type": "code",
   "execution_count": null,
   "metadata": {},
   "outputs": [],
   "source": []
  }
 ],
 "metadata": {
  "colab": {
   "provenance": []
  },
  "kernelspec": {
   "display_name": "Python 3 (ipykernel)",
   "language": "python",
   "name": "python3"
  },
  "language_info": {
   "codemirror_mode": {
    "name": "ipython",
    "version": 3
   },
   "file_extension": ".py",
   "mimetype": "text/x-python",
   "name": "python",
   "nbconvert_exporter": "python",
   "pygments_lexer": "ipython3",
   "version": "3.9.13"
  }
 },
 "nbformat": 4,
 "nbformat_minor": 1
}
